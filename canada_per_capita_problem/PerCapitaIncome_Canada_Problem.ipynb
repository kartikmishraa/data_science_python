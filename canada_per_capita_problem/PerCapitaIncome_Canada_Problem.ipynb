{
  "nbformat": 4,
  "nbformat_minor": 0,
  "metadata": {
    "colab": {
      "name": "PerCapitaIncome_Canada_Problem.ipynb",
      "provenance": [],
      "collapsed_sections": []
    },
    "kernelspec": {
      "name": "python3",
      "display_name": "Python 3"
    },
    "language_info": {
      "name": "python"
    }
  },
  "cells": [
    {
      "cell_type": "markdown",
      "metadata": {
        "id": "u0_bPEo4glsN"
      },
      "source": [
        "# -[Given a csv file containing per capita income of canada over the years. The task is to make a basic ML model that predicts the per capita income in 2020.\n",
        "# Created a test csv that contains a column of years 2019-2025. This is taken as the input for the ML model. Result is a csv file containing the per capita income predicted by the model for the years 2019-2025. Also computed and stored R square value of the model in a text file.]-"
      ]
    },
    {
      "cell_type": "markdown",
      "metadata": {
        "id": "jYM2zxkHQD12"
      },
      "source": [
        "Topics covered in this problem: -\n",
        "*   Linear Regression & coefficient of determination\n",
        "*   Least Square Method to find best fit regression line\n",
        "*   Data visualization in python \n",
        "*   File handling in python\n",
        "*   Use of Pandas, sklearn, matplotlib libraries \n",
        "\n"
      ]
    },
    {
      "cell_type": "code",
      "metadata": {
        "id": "vmbEoOHmghUH"
      },
      "source": [
        "import pandas as pd\n",
        "import numpy as np\n",
        "import matplotlib.pyplot as plt\n",
        "from sklearn import linear_model"
      ],
      "execution_count": 62,
      "outputs": []
    },
    {
      "cell_type": "code",
      "metadata": {
        "colab": {
          "base_uri": "https://localhost:8080/",
          "height": 301
        },
        "id": "z9mcTmQOklCH",
        "outputId": "38c9ac39-2b55-4a2d-ea47-7cda6672885b"
      },
      "source": [
        "# reading the csv file and creating a scatter plot to visualize the data \n",
        "df = pd.read_csv(\"per_capita.csv\")\n",
        "\n",
        "plt.xlabel(\"year\", fontsize=\"15\")\n",
        "plt.ylabel(\"per capita income (US$)\", fontsize=\"12\")\n",
        "plt.scatter(df.year, df[[\"per capita income (US$)\"]], color=\"black\", marker=\"+\")"
      ],
      "execution_count": 105,
      "outputs": [
        {
          "output_type": "execute_result",
          "data": {
            "text/plain": [
              "<matplotlib.collections.PathCollection at 0x7f4b5107fa90>"
            ]
          },
          "metadata": {},
          "execution_count": 105
        },
        {
          "output_type": "display_data",
          "data": {
            "image/png": "[encoded data removed]",
            "text/plain": [
              "<Figure size 432x288 with 1 Axes>"
            ]
          },
          "metadata": {
            "needs_background": "light"
          }
        }
      ]
    },
    {
      "cell_type": "code",
      "metadata": {
        "id": "7BTZKFQ2mgxN"
      },
      "source": [
        "# creating a linear regression object and fitting it as per the given data\n",
        "reg = linear_model.LinearRegression()\n",
        "reg.fit(df[[\"year\"]], df[\"per capita income (US$)\"])    \n",
        "\n",
        "# reading the test file\n",
        "test_file = pd.read_csv(\"test.csv\")\n",
        "\n",
        "# predicting the result using the ML model and then storing the result\n",
        "test_results = reg.predict(test_file)"
      ],
      "execution_count": 82,
      "outputs": []
    },
    {
      "cell_type": "code",
      "metadata": {
        "id": "hgddjbpTpNZq"
      },
      "source": [
        "# creating a new results csv file and exporting the test results.\n",
        "test_file[\"[per capita income (US$)\"] = test_results\n",
        "test_file.to_csv(\"result2.csv\", index=\"False\")"
      ],
      "execution_count": 83,
      "outputs": []
    },
    {
      "cell_type": "markdown",
      "metadata": {
        "id": "B1xcdF-sMmc7"
      },
      "source": [
        "The coefficient of determination, aka the R-squared value is a statistical measure of how close the data is to the fitted regression line. Ranges from 0-1."
      ]
    },
    {
      "cell_type": "code",
      "metadata": {
        "id": "K1xcoBed7Udg"
      },
      "source": [
        "# Calculating and storing R square value of the model in a text file\n",
        "r_square = reg.score(df[[\"year\"]], df[\"per capita income (US$)\"])\n",
        "rsqr = open(\"r_square_value.txt\", \"w\")\n",
        "rsqr.write(\"R^2: \")\n",
        "rsqr.write(str(r_square))\n",
        "rsqr.close()"
      ],
      "execution_count": 99,
      "outputs": []
    },
    {
      "cell_type": "code",
      "metadata": {
        "colab": {
          "base_uri": "https://localhost:8080/",
          "height": 284
        },
        "id": "7UIzivZdxZco",
        "outputId": "c80529a6-e282-45ef-bc3a-d45feaecf94f"
      },
      "source": [
        "# plotting the best fit regression line on a scatter plot and exporting the graph as a pdf\n",
        "\n",
        "# computing slope and y-intercept for the best fit regression line\n",
        "m, c = np.polyfit(df.year, df[[\"per capita income (US$)\"]], 1)  # polyfit(x, y, degree) returns slope and y-intercept of best fit for data x and y.\n",
        "\n",
        "plt.ylabel(\"per capita income (US$)\", fontsize=\"12\")\n",
        "plt.xlabel(\"year\", fontsize=\"15\")\n",
        "plt.scatter(df.year, df[\"per capita income (US$)\"], color=\"black\", marker='+')\n",
        "plt.plot(df.year, m * df.year + c)    # plt.plot(x, m * x + c)  where x is array of values on x axis, m is slope, c is y intercept\n",
        "\n",
        "plt.savefig(\"linear_regression-scatter_plot.pdf\")"
      ],
      "execution_count": 123,
      "outputs": [
        {
          "output_type": "display_data",
          "data": {
            "image/png": "[encoded data removed]",
            "text/plain": [
              "<Figure size 432x288 with 1 Axes>"
            ]
          },
          "metadata": {
            "needs_background": "light"
          }
        }
      ]
    }
  ]
}