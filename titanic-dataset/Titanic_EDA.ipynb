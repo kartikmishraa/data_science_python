{
  "nbformat": 4,
  "nbformat_minor": 0,
  "metadata": {
    "colab": {
      "name": "Titanic-EDA.ipynb",
      "provenance": [],
      "collapsed_sections": [
        "apbQ0CIf9lpi",
        "iU72cKY-631e",
        "sCJwFs8S9EgR",
        "ZerNjbDctnw7"
      ]
    },
    "kernelspec": {
      "name": "python3",
      "display_name": "Python 3"
    },
    "language_info": {
      "name": "python"
    }
  },
  "cells": [
    {
      "cell_type": "markdown",
      "source": [
        "    Topic: Titanic EDA & Logistic Regression\n",
        "    Author: Kartik M\n",
        "    Start Date: January 4, 2022\n",
        "    End Date: January 27, 2022\n",
        "    \n",
        "\n",
        "Exploring the Titanic dataset. Following are the steps that I have followed: -\n",
        "\n",
        "\n",
        "*   Data Preprocessing\n",
        "    * Data Retrival\n",
        "    * Data Cleaning\n",
        "*   Data Exploration\n",
        "    * Summary Statistics\n",
        "    * Data Visualization\n",
        "*   Feature Engineering\n",
        "    * One Hot Encoding\n",
        "    * Log Transformation\n",
        "    * Feature Addition\n",
        "    * Feature Scaling\n",
        "*   Model Training\n",
        "    * Logistic Regression\n",
        "*   Model Evaluation\n",
        "    * Accuracy Score (Jaccard Similarity)\n",
        "    * Confusion Matrix\n",
        "\n"
      ],
      "metadata": {
        "id": "cldmHHMZAjPQ"
      }
    },
    {
      "cell_type": "markdown",
      "source": [
        "-----------------------------------------------------\n",
        "# Initial Imports\n",
        "-----------------------------------------------------"
      ],
      "metadata": {
        "id": "TehNN6nKo7lU"
      }
    },
    {
      "cell_type": "code",
      "source": [
        "import warnings\n",
        "warnings.filterwarnings('ignore')"
      ],
      "metadata": {
        "id": "lltcK8UAgwVR"
      },
      "execution_count": 1,
      "outputs": []
    },
    {
      "cell_type": "code",
      "execution_count": 66,
      "metadata": {
        "id": "iYIWac6YAgv_"
      },
      "outputs": [],
      "source": [
        "import numpy as np\n",
        "import pandas as pd\n",
        "import matplotlib.pyplot as plt"
      ]
    },
    {
      "cell_type": "markdown",
      "source": [
        "# Data Preprocessing"
      ],
      "metadata": {
        "id": "1zGpFV9PfSoj"
      }
    },
    {
      "cell_type": "code",
      "source": [
        "## -------------------------\n",
        "## DATA RETRIEVAL & CLEANING\n",
        "## -------------------------\n",
        "\n",
        "# filepath of the dataset\n",
        "file_path = 'train.csv'\n",
        "\n",
        "# columns to be dropped from the data\n",
        "to_drop = ['Name', 'Cabin', 'Ticket'] \n",
        "\n",
        "# reading the dataset and dropping unnecessary columns\n",
        "data = pd.read_csv(file_path).drop(to_drop, axis=1)\n",
        "\n",
        "# reordering & renaming the columns\n",
        "data = data[['PassengerId', 'Pclass', 'Sex', 'SibSp', 'Parch', 'Age', 'Fare', 'Embarked', 'Survived']]\n",
        "data.rename(columns={'PassengerId':'pId', 'Pclass':'pClass', 'Sex':'sex', 'Age':'age', 'Survived':'survived', 'Embarked':'embarked', 'Fare':'fare', 'Parch':'parCh', 'SibSp':'sibSp'}, inplace=True)\n",
        "\n",
        "# adding a temperory pClass_name column for better readability when I explore the data\n",
        "# will drop the new column later\n",
        "data['pClass_name'] = data[\"pClass\"].replace({1:'upper', 2:'middle', 3:'lower'})\n",
        "\n",
        "### DATA NOW SUCCESSFULLY RETRIEVED\n",
        "\n",
        "# displaying data\n",
        "data.head()"
      ],
      "metadata": {
        "id": "l7c8HyfvBFk_",
        "colab": {
          "base_uri": "https://localhost:8080/",
          "height": 206
        },
        "outputId": "b76e3675-143a-42cc-87c1-b83339c39e94"
      },
      "execution_count": 3,
      "outputs": [
        {
          "output_type": "execute_result",
          "data": {
            "text/html": [
              "\n",
              "  <div id=\"df-c0ab08e5-860a-48c6-8cb1-c56639d89351\">\n",
              "    <div class=\"colab-df-container\">\n",
              "      <div>\n",
              "<style scoped>\n",
              "    .dataframe tbody tr th:only-of-type {\n",
              "        vertical-align: middle;\n",
              "    }\n",
              "\n",
              "    .dataframe tbody tr th {\n",
              "        vertical-align: top;\n",
              "    }\n",
              "\n",
              "    .dataframe thead th {\n",
              "        text-align: right;\n",
              "    }\n",
              "</style>\n",
              "<table border=\"1\" class=\"dataframe\">\n",
              "  <thead>\n",
              "    <tr style=\"text-align: right;\">\n",
              "      <th></th>\n",
              "      <th>pId</th>\n",
              "      <th>pClass</th>\n",
              "      <th>sex</th>\n",
              "      <th>sibSp</th>\n",
              "      <th>parCh</th>\n",
              "      <th>age</th>\n",
              "      <th>fare</th>\n",
              "      <th>embarked</th>\n",
              "      <th>survived</th>\n",
              "      <th>pClass_name</th>\n",
              "    </tr>\n",
              "  </thead>\n",
              "  <tbody>\n",
              "    <tr>\n",
              "      <th>0</th>\n",
              "      <td>1</td>\n",
              "      <td>3</td>\n",
              "      <td>male</td>\n",
              "      <td>1</td>\n",
              "      <td>0</td>\n",
              "      <td>22.0</td>\n",
              "      <td>7.2500</td>\n",
              "      <td>S</td>\n",
              "      <td>0</td>\n",
              "      <td>lower</td>\n",
              "    </tr>\n",
              "    <tr>\n",
              "      <th>1</th>\n",
              "      <td>2</td>\n",
              "      <td>1</td>\n",
              "      <td>female</td>\n",
              "      <td>1</td>\n",
              "      <td>0</td>\n",
              "      <td>38.0</td>\n",
              "      <td>71.2833</td>\n",
              "      <td>C</td>\n",
              "      <td>1</td>\n",
              "      <td>upper</td>\n",
              "    </tr>\n",
              "    <tr>\n",
              "      <th>2</th>\n",
              "      <td>3</td>\n",
              "      <td>3</td>\n",
              "      <td>female</td>\n",
              "      <td>0</td>\n",
              "      <td>0</td>\n",
              "      <td>26.0</td>\n",
              "      <td>7.9250</td>\n",
              "      <td>S</td>\n",
              "      <td>1</td>\n",
              "      <td>lower</td>\n",
              "    </tr>\n",
              "    <tr>\n",
              "      <th>3</th>\n",
              "      <td>4</td>\n",
              "      <td>1</td>\n",
              "      <td>female</td>\n",
              "      <td>1</td>\n",
              "      <td>0</td>\n",
              "      <td>35.0</td>\n",
              "      <td>53.1000</td>\n",
              "      <td>S</td>\n",
              "      <td>1</td>\n",
              "      <td>upper</td>\n",
              "    </tr>\n",
              "    <tr>\n",
              "      <th>4</th>\n",
              "      <td>5</td>\n",
              "      <td>3</td>\n",
              "      <td>male</td>\n",
              "      <td>0</td>\n",
              "      <td>0</td>\n",
              "      <td>35.0</td>\n",
              "      <td>8.0500</td>\n",
              "      <td>S</td>\n",
              "      <td>0</td>\n",
              "      <td>lower</td>\n",
              "    </tr>\n",
              "  </tbody>\n",
              "</table>\n",
              "</div>\n",
              "      <button class=\"colab-df-convert\" onclick=\"convertToInteractive('df-c0ab08e5-860a-48c6-8cb1-c56639d89351')\"\n",
              "              title=\"Convert this dataframe to an interactive table.\"\n",
              "              style=\"display:none;\">\n",
              "        \n",
              "  <svg xmlns=\"http://www.w3.org/2000/svg\" height=\"24px\"viewBox=\"0 0 24 24\"\n",
              "       width=\"24px\">\n",
              "    <path d=\"M0 0h24v24H0V0z\" fill=\"none\"/>\n",
              "    <path d=\"M18.56 5.44l.94 2.06.94-2.06 2.06-.94-2.06-.94-.94-2.06-.94 2.06-2.06.94zm-11 1L8.5 8.5l.94-2.06 2.06-.94-2.06-.94L8.5 2.5l-.94 2.06-2.06.94zm10 10l.94 2.06.94-2.06 2.06-.94-2.06-.94-.94-2.06-.94 2.06-2.06.94z\"/><path d=\"M17.41 7.96l-1.37-1.37c-.4-.4-.92-.59-1.43-.59-.52 0-1.04.2-1.43.59L10.3 9.45l-7.72 7.72c-.78.78-.78 2.05 0 2.83L4 21.41c.39.39.9.59 1.41.59.51 0 1.02-.2 1.41-.59l7.78-7.78 2.81-2.81c.8-.78.8-2.07 0-2.86zM5.41 20L4 18.59l7.72-7.72 1.47 1.35L5.41 20z\"/>\n",
              "  </svg>\n",
              "      </button>\n",
              "      \n",
              "  <style>\n",
              "    .colab-df-container {\n",
              "      display:flex;\n",
              "      flex-wrap:wrap;\n",
              "      gap: 12px;\n",
              "    }\n",
              "\n",
              "    .colab-df-convert {\n",
              "      background-color: #E8F0FE;\n",
              "      border: none;\n",
              "      border-radius: 50%;\n",
              "      cursor: pointer;\n",
              "      display: none;\n",
              "      fill: #1967D2;\n",
              "      height: 32px;\n",
              "      padding: 0 0 0 0;\n",
              "      width: 32px;\n",
              "    }\n",
              "\n",
              "    .colab-df-convert:hover {\n",
              "      background-color: #E2EBFA;\n",
              "      box-shadow: 0px 1px 2px rgba(60, 64, 67, 0.3), 0px 1px 3px 1px rgba(60, 64, 67, 0.15);\n",
              "      fill: #174EA6;\n",
              "    }\n",
              "\n",
              "    [theme=dark] .colab-df-convert {\n",
              "      background-color: #3B4455;\n",
              "      fill: #D2E3FC;\n",
              "    }\n",
              "\n",
              "    [theme=dark] .colab-df-convert:hover {\n",
              "      background-color: #434B5C;\n",
              "      box-shadow: 0px 1px 3px 1px rgba(0, 0, 0, 0.15);\n",
              "      filter: drop-shadow(0px 1px 2px rgba(0, 0, 0, 0.3));\n",
              "      fill: #FFFFFF;\n",
              "    }\n",
              "  </style>\n",
              "\n",
              "      <script>\n",
              "        const buttonEl =\n",
              "          document.querySelector('#df-c0ab08e5-860a-48c6-8cb1-c56639d89351 button.colab-df-convert');\n",
              "        buttonEl.style.display =\n",
              "          google.colab.kernel.accessAllowed ? 'block' : 'none';\n",
              "\n",
              "        async function convertToInteractive(key) {\n",
              "          const element = document.querySelector('#df-c0ab08e5-860a-48c6-8cb1-c56639d89351');\n",
              "          const dataTable =\n",
              "            await google.colab.kernel.invokeFunction('convertToInteractive',\n",
              "                                                     [key], {});\n",
              "          if (!dataTable) return;\n",
              "\n",
              "          const docLinkHtml = 'Like what you see? Visit the ' +\n",
              "            '<a target=\"_blank\" href=https://colab.research.google.com/notebooks/data_table.ipynb>data table notebook</a>'\n",
              "            + ' to learn more about interactive tables.';\n",
              "          element.innerHTML = '';\n",
              "          dataTable['output_type'] = 'display_data';\n",
              "          await google.colab.output.renderOutput(dataTable, element);\n",
              "          const docLink = document.createElement('div');\n",
              "          docLink.innerHTML = docLinkHtml;\n",
              "          element.appendChild(docLink);\n",
              "        }\n",
              "      </script>\n",
              "    </div>\n",
              "  </div>\n",
              "  "
            ],
            "text/plain": [
              "   pId  pClass     sex  sibSp  ...     fare  embarked  survived pClass_name\n",
              "0    1       3    male      1  ...   7.2500         S         0       lower\n",
              "1    2       1  female      1  ...  71.2833         C         1       upper\n",
              "2    3       3  female      0  ...   7.9250         S         1       lower\n",
              "3    4       1  female      1  ...  53.1000         S         1       upper\n",
              "4    5       3    male      0  ...   8.0500         S         0       lower\n",
              "\n",
              "[5 rows x 10 columns]"
            ]
          },
          "metadata": {},
          "execution_count": 3
        }
      ]
    },
    {
      "cell_type": "code",
      "source": [
        "## --------------------------------------------------------\n",
        "## Checking for null values in the dataset by visualization\n",
        "## --------------------------------------------------------\n",
        " \n",
        "nan_values = data.isnull().sum()\n",
        "print(nan_values)\n",
        "\n",
        "# that implies, of the 891 entries, 177 in the age column are NaN (null) and 2 in embarked are also null.\n",
        "# visualizing the same using a heatmap\n",
        "\n",
        "import seaborn as sns\n",
        "\n",
        "sns.heatmap(data.isnull(), yticklabels=False, cbar=False, cmap='cividis')"
      ],
      "metadata": {
        "colab": {
          "base_uri": "https://localhost:8080/",
          "height": 529
        },
        "id": "ylAjySaeFV9-",
        "outputId": "ea4a8d2b-5e7c-4f55-f161-b53ebb98b25c"
      },
      "execution_count": 4,
      "outputs": [
        {
          "output_type": "stream",
          "name": "stdout",
          "text": [
            "pId              0\n",
            "pClass           0\n",
            "sex              0\n",
            "sibSp            0\n",
            "parCh            0\n",
            "age            177\n",
            "fare             0\n",
            "embarked         2\n",
            "survived         0\n",
            "pClass_name      0\n",
            "dtype: int64\n"
          ]
        },
        {
          "output_type": "execute_result",
          "data": {
            "text/plain": [
              "<matplotlib.axes._subplots.AxesSubplot at 0x7f7f090d8b90>"
            ]
          },
          "metadata": {},
          "execution_count": 4
        },
        {
          "output_type": "display_data",
          "data": {
            "image/png": "[encoded data removed]",
            "text/plain": [
              "<Figure size 432x288 with 1 Axes>"
            ]
          },
          "metadata": {
            "needs_background": "light"
          }
        }
      ]
    },
    {
      "cell_type": "markdown",
      "source": [
        "As we can see in the above heat map, there are many NaN values in the age column. I will impute the NaN values. There are 2 methods to do so, both the methods give almost equally good results as proven in the link: -\n",
        "\n",
        "*   Imputing with the mean of the ages (on the basis of pClass and sex)\n",
        "*   Imputing  NaN values using a RandomForestRegressor (https://stackoverflow.com/a/63651173)\n",
        "\n"
      ],
      "metadata": {
        "id": "eATeTijhYZuD"
      }
    },
    {
      "cell_type": "code",
      "source": [
        "# Visualizing boxplot to gather information from data\n",
        "\n",
        "sns.boxplot(x='pClass_name', y='age', data=data, palette='winter', hue='sex', order=['lower', 'middle', 'upper'])"
      ],
      "metadata": {
        "colab": {
          "base_uri": "https://localhost:8080/",
          "height": 297
        },
        "id": "QSrG7FpsWclB",
        "outputId": "7453e66e-785e-4ce1-ecdb-8697729f5914"
      },
      "execution_count": null,
      "outputs": [
        {
          "output_type": "execute_result",
          "data": {
            "text/plain": [
              "<matplotlib.axes._subplots.AxesSubplot at 0x7fb10918e110>"
            ]
          },
          "metadata": {},
          "execution_count": 6
        },
        {
          "output_type": "display_data",
          "data": {
            "image/png": "[encoded data removed]",
            "text/plain": [
              "<Figure size 432x288 with 1 Axes>"
            ]
          },
          "metadata": {
            "needs_background": "light"
          }
        }
      ]
    },
    {
      "cell_type": "markdown",
      "source": [
        "It is evident from the boxplot above that the median ages vary significantly (hence mean will also vary) on the basis of pClass and not very significantly on the basis of sex (but still). So it is not wise to impute the ages by taking the mean of all the datapoints. I will take mean on the basis of pClass and sex and then impute."
      ],
      "metadata": {
        "id": "FfN8-pTNizeJ"
      }
    },
    {
      "cell_type": "code",
      "source": [
        "## -------------------------------------------\n",
        "## Imputing the NaN ages with respective means\n",
        "## -------------------------------------------\n",
        "\n",
        "# here the groupby function will return series grouped by pClass and sex and then \n",
        "# the apply function will applye our lambda function on each datapoint\n",
        "\n",
        "data['age'] = data['age'].groupby([data['pClass'], data['sex']]).apply(lambda x: x.fillna(x.mean()))\n",
        "\n",
        "## And for the 2 NaN values in Embarked we will drop those 2 datapoints\n",
        "data.dropna(inplace=True)\n",
        " \n",
        "# plotting a heatmap to check for NaN values\n",
        "sns.heatmap(data.isnull(), cbar=False, cmap='cividis', yticklabels=False)"
      ],
      "metadata": {
        "colab": {
          "base_uri": "https://localhost:8080/",
          "height": 339
        },
        "id": "lSBSiGIIhG18",
        "outputId": "1a7eb303-c92d-47c1-d6d7-179aeee22943"
      },
      "execution_count": 5,
      "outputs": [
        {
          "output_type": "execute_result",
          "data": {
            "text/plain": [
              "<matplotlib.axes._subplots.AxesSubplot at 0x7f7f003f6390>"
            ]
          },
          "metadata": {},
          "execution_count": 5
        },
        {
          "output_type": "display_data",
          "data": {
            "image/png": "[encoded data removed]",
            "text/plain": [
              "<Figure size 432x288 with 1 Axes>"
            ]
          },
          "metadata": {
            "needs_background": "light"
          }
        }
      ]
    },
    {
      "cell_type": "markdown",
      "source": [
        "# Data Exploration\n",
        "  # -> Summary & Visual Statistics\n",
        "\n"
      ],
      "metadata": {
        "id": "apbQ0CIf9lpi"
      }
    },
    {
      "cell_type": "code",
      "source": [
        "### DATA EXPLORATION\n",
        "## In this section, I will cover Summary and Visual Statistics\n",
        "\n",
        "## Visualizing the number of people that survived the accident\n",
        "\n",
        "# computing percentage of people that survived\n",
        "percentage_survived = data.survived.mean()\n",
        "percentage_survived *= 100\n",
        "\n",
        "# printing the percentage\n",
        "print(\"\\n---------------------------------------------------------------------------\\n\")\n",
        "print('% of people survived: ',round(percentage_survived, 1), '%')\n",
        "print(\"\\n---------------------------------------------------------------------------\\n\")\n",
        "\n",
        "# representing the same data visually \n",
        "sns.set_theme(style='darkgrid')\n",
        "sns.countplot(x='survived', data=data, palette='Set1')"
      ],
      "metadata": {
        "colab": {
          "base_uri": "https://localhost:8080/",
          "height": 424
        },
        "id": "fChEVcdMlajQ",
        "outputId": "7b3bb82e-5663-4b3e-99bd-edfbcc20545d"
      },
      "execution_count": null,
      "outputs": [
        {
          "output_type": "stream",
          "name": "stdout",
          "text": [
            "\n",
            "---------------------------------------------------------------------------\n",
            "\n",
            "% of people survived:  38.2 %\n",
            "\n",
            "---------------------------------------------------------------------------\n",
            "\n"
          ]
        },
        {
          "output_type": "execute_result",
          "data": {
            "text/plain": [
              "<matplotlib.axes._subplots.AxesSubplot at 0x7fb108c39390>"
            ]
          },
          "metadata": {},
          "execution_count": 8
        },
        {
          "output_type": "display_data",
          "data": {
            "image/png": "[encoded data removed]",
            "text/plain": [
              "<Figure size 432x288 with 1 Axes>"
            ]
          },
          "metadata": {}
        }
      ]
    },
    {
      "cell_type": "markdown",
      "source": [
        "# Gender bias in rates of survival\n",
        "From the below stats it is evident that females are more likely to have survived the titanic incident than males. It was so because women and children were given priority to get onto the boats (This was the policy that was adopted by the crew). \n",
        " \n",
        "\n",
        "*   Percentage of females that survived: 74.2%\n",
        "*   Percentage of males that survived: 18.9%\n",
        "\n",
        "The difference is staggering.  "
      ],
      "metadata": {
        "id": "iU72cKY-631e"
      }
    },
    {
      "cell_type": "code",
      "source": [
        "## Analysing Gender Bias in Survival Rate\n",
        "\n",
        "# computing the percentage of survival by sex\n",
        "sex_percentage = data.groupby(['sex']).survived.mean()\n",
        "sex_percentage *= 100\n",
        "\n",
        "gender = ('females', 'males')\n",
        "\n",
        "print(\"\\n---------------------------------------------------------------------------\\n\")\n",
        "\n",
        "# printing % of people surviving on the basis of sex\n",
        "for i in range(sex_percentage.shape[0]):\n",
        "   print(\"% of \" + gender[i] + \" survived: \", round(sex_percentage[i], 1),\"%\")\n",
        "\n",
        "print(\"\\n---------------------------------------------------------------------------\\n\")\n",
        "\n",
        "# representing the same data visually \n",
        "sns.countplot(x='survived', hue='sex', data=data, palette=['#325288', '#D96098'])"
      ],
      "metadata": {
        "colab": {
          "base_uri": "https://localhost:8080/",
          "height": 441
        },
        "id": "NLMuu6tNgRs5",
        "outputId": "8e236e66-cb3c-40cc-d946-1ec66eb9db3b"
      },
      "execution_count": null,
      "outputs": [
        {
          "output_type": "stream",
          "name": "stdout",
          "text": [
            "\n",
            "---------------------------------------------------------------------------\n",
            "\n",
            "% of females survived:  74.0 %\n",
            "% of males survived:  18.9 %\n",
            "\n",
            "---------------------------------------------------------------------------\n",
            "\n"
          ]
        },
        {
          "output_type": "execute_result",
          "data": {
            "text/plain": [
              "<matplotlib.axes._subplots.AxesSubplot at 0x7fb107b4dad0>"
            ]
          },
          "metadata": {},
          "execution_count": 9
        },
        {
          "output_type": "display_data",
          "data": {
            "image/png": "[encoded data removed]",
            "text/plain": [
              "<Figure size 432x288 with 1 Axes>"
            ]
          },
          "metadata": {}
        }
      ]
    },
    {
      "cell_type": "markdown",
      "source": [
        "# Social bias in rates of survival\n",
        "As is evident from the graph below, the upper class passengers were much more likely to have survived than the middle and the lower class passengers.\n",
        "\n",
        "*   Percentage of upper class that survived: 63.0%\n",
        "*   Percentage of middle class that survived: 47.3%\n",
        "*   Percentage of lower class that survived: 24.2%\n",
        "\n"
      ],
      "metadata": {
        "id": "sCJwFs8S9EgR"
      }
    },
    {
      "cell_type": "code",
      "source": [
        "## Analysing Social Bias in Survival Rate\n",
        "\n",
        "# Computing percentage of survival by pClass\n",
        "pClass_percentage = data.groupby(['pClass_name']).survived.mean()\n",
        "pClass_percentage *= 100\n",
        "\n",
        "clas = ('lower', 'middle', 'upper')\n",
        "\n",
        "print(\"\\n---------------------------------------------------------------------------\\n\")\n",
        "\n",
        "# printing % of people surviving on the basis of class\n",
        "for i in range(pClass_percentage.shape[0]):\n",
        "   print(\"% of \" + clas[i] + \" survived: \", round(pClass_percentage[i], 1), '%')\n",
        "\n",
        "print(\"\\n---------------------------------------------------------------------------\\n\")\n",
        "  \n",
        "# representing the same data visually \n",
        "sns.countplot(x='survived', hue='pClass_name', data=data, palette='cividis')"
      ],
      "metadata": {
        "colab": {
          "base_uri": "https://localhost:8080/",
          "height": 459
        },
        "id": "SuMS1sE0C84R",
        "outputId": "194b63be-26bc-4894-a295-08759c5281ed"
      },
      "execution_count": null,
      "outputs": [
        {
          "output_type": "stream",
          "name": "stdout",
          "text": [
            "\n",
            "---------------------------------------------------------------------------\n",
            "\n",
            "% of lower survived:  24.2 %\n",
            "% of middle survived:  47.3 %\n",
            "% of upper survived:  62.6 %\n",
            "\n",
            "---------------------------------------------------------------------------\n",
            "\n"
          ]
        },
        {
          "output_type": "execute_result",
          "data": {
            "text/plain": [
              "<matplotlib.axes._subplots.AxesSubplot at 0x7fb107abad90>"
            ]
          },
          "metadata": {},
          "execution_count": 10
        },
        {
          "output_type": "display_data",
          "data": {
            "image/png": "[encoded data removed]",
            "text/plain": [
              "<Figure size 432x288 with 1 Axes>"
            ]
          },
          "metadata": {}
        }
      ]
    },
    {
      "cell_type": "markdown",
      "source": [
        "# Sex-Ratio Analysis\n",
        "It is evident from the graph below that the sex ratio is much lower in the lower class showing that there was limited luxury for women in the lower strata of the society.\n",
        "\n",
        "*    Lower Class: 41.5 %\n",
        "*    Middle Class: 70.4 %\n",
        "*    Upper Class: 75.4 %\n"
      ],
      "metadata": {
        "id": "ZerNjbDctnw7"
      }
    },
    {
      "cell_type": "code",
      "source": [
        "## Sex-Ratio Analysis\n",
        "\n",
        "sns.countplot(x='pClass_name', data=data, hue='sex', order=['lower', 'middle', 'upper'], palette='Set2')\n",
        "\n",
        "sex_byClass = data.groupby(['sex', 'pClass_name']).pId.count()\n",
        "\n",
        "sex_ratio = []\n",
        "\n",
        "for i in range(3):\n",
        "   sex_ratio.append(round((sex_byClass[i] / sex_byClass[i+3] * 100), 2))\n",
        "\n",
        "print(sex_ratio)  # sex ratio is much better at the middle and the upper classes, \n",
        "                  # showing limited luxury for women in the lower strata "
      ],
      "metadata": {
        "colab": {
          "base_uri": "https://localhost:8080/",
          "height": 303
        },
        "id": "ohQxRD_YpcEn",
        "outputId": "0a9077c6-cf6c-4dff-f85b-e9e07a4dd4f0"
      },
      "execution_count": null,
      "outputs": [
        {
          "output_type": "stream",
          "name": "stdout",
          "text": [
            "[41.5, 70.37, 75.41]\n"
          ]
        },
        {
          "output_type": "display_data",
          "data": {
            "image/png": "[encoded data removed]",
            "text/plain": [
              "<Figure size 432x288 with 1 Axes>"
            ]
          },
          "metadata": {}
        }
      ]
    },
    {
      "cell_type": "markdown",
      "source": [
        "----------------------------------------------------------\n",
        "# Feature Engineering\n",
        "Done with EDA, now I will prepare the data to be fitted to a Logistic Regressor"
      ],
      "metadata": {
        "id": "LEm76HEUuZDd"
      }
    },
    {
      "cell_type": "code",
      "source": [
        "data.info()"
      ],
      "metadata": {
        "colab": {
          "base_uri": "https://localhost:8080/"
        },
        "id": "-s6uKK9EunmM",
        "outputId": "45042b3e-ef9e-4337-c679-86d4cd7ccd5c"
      },
      "execution_count": 6,
      "outputs": [
        {
          "output_type": "stream",
          "name": "stdout",
          "text": [
            "<class 'pandas.core.frame.DataFrame'>\n",
            "Int64Index: 889 entries, 0 to 890\n",
            "Data columns (total 10 columns):\n",
            " #   Column       Non-Null Count  Dtype  \n",
            "---  ------       --------------  -----  \n",
            " 0   pId          889 non-null    int64  \n",
            " 1   pClass       889 non-null    int64  \n",
            " 2   sex          889 non-null    object \n",
            " 3   sibSp        889 non-null    int64  \n",
            " 4   parCh        889 non-null    int64  \n",
            " 5   age          889 non-null    float64\n",
            " 6   fare         889 non-null    float64\n",
            " 7   embarked     889 non-null    object \n",
            " 8   survived     889 non-null    int64  \n",
            " 9   pClass_name  889 non-null    object \n",
            "dtypes: float64(2), int64(5), object(3)\n",
            "memory usage: 76.4+ KB\n"
          ]
        }
      ]
    },
    {
      "cell_type": "code",
      "source": [
        "# dropping unnecessary columns \n",
        "train = data.drop(['pId', 'pClass_name'], axis=1)"
      ],
      "metadata": {
        "id": "sQfl5nI0vTIU"
      },
      "execution_count": 7,
      "outputs": []
    },
    {
      "cell_type": "code",
      "source": [
        "from sklearn.preprocessing import LabelEncoder\n",
        "from sklearn.preprocessing import OneHotEncoder"
      ],
      "metadata": {
        "id": "NhWlRxnrZPwt"
      },
      "execution_count": 98,
      "outputs": []
    },
    {
      "cell_type": "code",
      "source": [
        "## --------------------------------------------------------------------------\n",
        "## Applying One Hot Encoding to the categorical variables ('sex', 'embarked')\n",
        "## --------------------------------------------------------------------------\n",
        "\n",
        "# Firstly, I'll LabelEncode the categorical variables\n",
        "le = LabelEncoder()\n",
        "\n",
        "embarked_le = train.embarked    # label encoded embarked feature\n",
        "embarked_le = le.fit_transform(embarked_le)\n",
        "embarked_le = pd.DataFrame(embarked_le)\n",
        "embarked_le.rename(columns={0:'embarked_en'}, inplace=True)\n",
        "\n",
        "\n",
        "# Now I'll OneHotEncode the LabelEncoded data\n",
        "ohe = OneHotEncoder(sparse=False)\n",
        "\n",
        "embarked_ohe = embarked_le.values   # one hot encoded embarked feature\n",
        "embarked_ohe = ohe.fit_transform(embarked_ohe)\n",
        "embarked_ohe = pd.DataFrame(embarked_ohe)\n",
        "embarked_ohe.drop(columns=2, inplace=True)\n",
        "embarked_ohe.rename(columns={0:'C', 1:'Q'}, inplace=True)\n",
        "\n",
        "\n",
        "## now encoding sex feature\n",
        "sex_le = train.sex    # label encoded sex feature\n",
        "sex_le = le.fit_transform(sex_le)\n",
        "sex_le = pd.DataFrame(sex_le)\n",
        "sex_le.rename(columns={0:'male'}, inplace=True)\n",
        "\n",
        "sex_ohe = sex_le    # one hot encoded sex feature\n",
        "\n",
        "\n",
        "# Adding the encoded variables to our training set\n",
        "encoded_ohe = pd.concat([embarked_ohe, sex_ohe], axis=1)\n",
        "train_ohe = pd.concat([train.drop(['sex', 'embarked'], axis=1), encoded_ohe], axis=1)\n",
        "\n",
        "# Don't know why but some NaN values creeped in. 2 whole rows became NaN\n",
        "train_ohe.dropna(inplace=True)\n",
        "\n",
        "## Next up, I'll apply Log transformation to the 'Fare' feature because it has some outliers"
      ],
      "metadata": {
        "id": "NLbuFul_q7ho"
      },
      "execution_count": 248,
      "outputs": []
    },
    {
      "cell_type": "code",
      "source": [
        "## -----------------------------------------------------------------\n",
        "## Applying Log Transformation to 'Fare' feature to remove outliers\n",
        "## -----------------------------------------------------------------\n",
        "\n",
        "train_log = train_ohe.copy()\n",
        "train_log['fare_log'] = np.log1p(train_log['fare'])\n",
        "train_log.drop(['fare'], axis=1, inplace=True)\n",
        "\n",
        "## Next up, I'll add a new 'family' feature (just to increase complexity) \n",
        "## where family = sibSp + parCh; indicating your total family members onboard"
      ],
      "metadata": {
        "id": "BjMhQAHDPhVa"
      },
      "execution_count": 250,
      "outputs": []
    },
    {
      "cell_type": "code",
      "source": [
        "## -----------------------\n",
        "## Adding 'family' feature\n",
        "## -----------------------\n",
        "\n",
        "train_final = train_log.copy()\n",
        "train_final['family'] = train_final['sibSp'] + train_final['parCh']\n",
        "\n",
        "X = train_final.drop(['survived'], axis=1)\n",
        "Y = train_final['survived']\n",
        "\n",
        "## Now data is ready to be SCALED and then FITTED"
      ],
      "metadata": {
        "colab": {
          "base_uri": "https://localhost:8080/"
        },
        "id": "bsQJ3Q9fRrnP",
        "outputId": "5e30ae0c-b383-4943-a58d-4bc9f7d79307"
      },
      "execution_count": 252,
      "outputs": [
        {
          "output_type": "execute_result",
          "data": {
            "text/plain": [
              "(887,)"
            ]
          },
          "metadata": {},
          "execution_count": 252
        }
      ]
    },
    {
      "cell_type": "markdown",
      "source": [
        "------------------------------------------------------------------\n",
        "# Model Training\n",
        "------------------------------------------------------------------"
      ],
      "metadata": {
        "id": "YRBg5aC3mxup"
      }
    },
    {
      "cell_type": "code",
      "source": [
        "from sklearn.model_selection import train_test_split\n",
        "from sklearn.linear_model import LogisticRegression\n",
        "from sklearn.preprocessing import StandardScaler\n",
        "from sklearn.metrics import accuracy_score"
      ],
      "metadata": {
        "id": "b6xzeXjygasW"
      },
      "execution_count": 253,
      "outputs": []
    },
    {
      "cell_type": "code",
      "source": [
        "## Training a logistic regression model with our OneHotEncoded training data \n",
        "\n",
        "# Performing a train test split\n",
        "x_train, x_test, y_train, y_test = train_test_split(X, Y, test_size=0.3, random_state=69)\n",
        "\n",
        "# Standard scaler to scale our features\n",
        "sc = StandardScaler() \n",
        "x_train_scaled = sc.fit_transform(x_train)\n",
        "x_test_scaled = sc.transform(x_test)\n",
        "\n",
        "# Fitting the model to our data\n",
        "log_reg = LogisticRegression()\n",
        "log_reg.fit(x_train_scaled, y_train)\n",
        "\n",
        "# Making predictions\n",
        "y_pred = log_reg.predict(x_test_scaled)"
      ],
      "metadata": {
        "id": "Y6Wth4Wtfely"
      },
      "execution_count": 262,
      "outputs": []
    },
    {
      "cell_type": "markdown",
      "source": [
        "-----------------------------------------------------------\n",
        "# Model Evaluation\n",
        "-----------------------------------------------------------"
      ],
      "metadata": {
        "id": "9FKM-axpnsKf"
      }
    },
    {
      "cell_type": "code",
      "source": [
        "## Model Evaluation\n",
        "\n",
        "LogReg_score = accuracy_score(y_test, y_pred)\n",
        "\n",
        "# Accuracy score of our model\n",
        "print(\"Accuracy Score: \", LogReg_score)"
      ],
      "metadata": {
        "colab": {
          "base_uri": "https://localhost:8080/"
        },
        "id": "LkgnJdR6llN3",
        "outputId": "c78c94be-b152-4a22-9009-480eae4b7fbb"
      },
      "execution_count": 263,
      "outputs": [
        {
          "output_type": "stream",
          "name": "stdout",
          "text": [
            "Accuracy Score:  0.7378277153558053\n"
          ]
        }
      ]
    },
    {
      "cell_type": "code",
      "source": [
        "# Confusion Matrix\n",
        "\n",
        "from sklearn.metrics import confusion_matrix\n",
        "\n",
        "c_matrix = confusion_matrix(y_test, y_pred)\n",
        "print(\"Confusion Matrix: \\n\",c_matrix, end='\\n\\n')\n",
        "\n",
        "# Visualizing the confusion matrix using a heatmap\n",
        "sns.heatmap(c_matrix, annot=True, cbar=False)"
      ],
      "metadata": {
        "colab": {
          "base_uri": "https://localhost:8080/",
          "height": 352
        },
        "id": "tyyo8uNF9fHy",
        "outputId": "dfb8b6ee-bc46-4357-f4fb-d46e890fce4c"
      },
      "execution_count": 264,
      "outputs": [
        {
          "output_type": "stream",
          "name": "stdout",
          "text": [
            "Confusion Matrix: \n",
            " [[156  23]\n",
            " [ 47  41]]\n",
            "\n"
          ]
        },
        {
          "output_type": "execute_result",
          "data": {
            "text/plain": [
              "<matplotlib.axes._subplots.AxesSubplot at 0x7f7ef39ab250>"
            ]
          },
          "metadata": {},
          "execution_count": 264
        },
        {
          "output_type": "display_data",
          "data": {
            "image/png": "[encoded data removed]",
            "text/plain": [
              "<Figure size 432x288 with 1 Axes>"
            ]
          },
          "metadata": {
            "needs_background": "light"
          }
        }
      ]
    },
    {
      "cell_type": "code",
      "source": [
        "from sklearn.metrics import classification_report\n",
        "print(classification_report(y_test, y_pred))"
      ],
      "metadata": {
        "colab": {
          "base_uri": "https://localhost:8080/"
        },
        "id": "BGyb9FXHxhJQ",
        "outputId": "26e3f07f-56fd-481c-a35d-c796236e1b81"
      },
      "execution_count": 266,
      "outputs": [
        {
          "output_type": "stream",
          "name": "stdout",
          "text": [
            "              precision    recall  f1-score   support\n",
            "\n",
            "         0.0       0.77      0.87      0.82       179\n",
            "         1.0       0.64      0.47      0.54        88\n",
            "\n",
            "    accuracy                           0.74       267\n",
            "   macro avg       0.70      0.67      0.68       267\n",
            "weighted avg       0.73      0.74      0.73       267\n",
            "\n"
          ]
        }
      ]
    }
  ]
}